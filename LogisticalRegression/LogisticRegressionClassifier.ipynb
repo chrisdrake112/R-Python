{
 "cells": [
  {
   "cell_type": "code",
   "execution_count": 351,
   "id": "a9368e94-9441-4f44-88c8-18251a6205db",
   "metadata": {},
   "outputs": [],
   "source": [
    "import pandas as pd\n",
    "import numpy as np\n",
    "from sklearn import linear_model\n",
    "from sklearn.metrics import mean_squared_error, r2_score\n",
    "from sklearn.model_selection import train_test_split\n",
    "from sklearn import metrics"
   ]
  },
  {
   "cell_type": "code",
   "execution_count": 38,
   "id": "d1044bf6-4ecd-4426-bfa0-3b05ed9cd849",
   "metadata": {},
   "outputs": [],
   "source": [
    "#import datasets\n",
    "dataset = pd.read_csv(\"trainingset.csv\")\n",
    "queries = pd.read_csv(\"queries.csv\")"
   ]
  },
  {
   "cell_type": "code",
   "execution_count": 352,
   "id": "f2023c58-5298-4549-9564-5c0dffa6f6ae",
   "metadata": {},
   "outputs": [],
   "source": [
    "#Create feature headers\n",
    "dataset.columns = [\"ID\",\"Age\",\"Job\",\"MartialStatus\",\"Education\",\"Default\",\"Balance\",\"Housing\",\"Loan\",\"Contact\",\"Day\",\"Month\",\"Duration\",\"Campaign\",\"Pdays\",\"Previous\",\"Poutcome\",\"output\"]\n",
    "queries.columns = [\"ID\",\"Age\",\"Job\",\"MartialStatus\",\"Education\",\"Default\",\"Balance\",\"Housing\",\"Loan\",\"Contact\",\"Day\",\"Month\",\"Duration\",\"Campaign\",\"Pdays\",\"Previous\",\"Poutcome\",\"output\"]"
   ]
  },
  {
   "cell_type": "code",
   "execution_count": 40,
   "id": "6640454e-4138-4f6a-8253-b054e711e3ce",
   "metadata": {},
   "outputs": [
    {
     "data": {
      "text/html": [
       "<div>\n",
       "<style scoped>\n",
       "    .dataframe tbody tr th:only-of-type {\n",
       "        vertical-align: middle;\n",
       "    }\n",
       "\n",
       "    .dataframe tbody tr th {\n",
       "        vertical-align: top;\n",
       "    }\n",
       "\n",
       "    .dataframe thead th {\n",
       "        text-align: right;\n",
       "    }\n",
       "</style>\n",
       "<table border=\"1\" class=\"dataframe\">\n",
       "  <thead>\n",
       "    <tr style=\"text-align: right;\">\n",
       "      <th></th>\n",
       "      <th>ID</th>\n",
       "      <th>Age</th>\n",
       "      <th>Job</th>\n",
       "      <th>MartialStatus</th>\n",
       "      <th>Education</th>\n",
       "      <th>Default</th>\n",
       "      <th>Balance</th>\n",
       "      <th>Housing</th>\n",
       "      <th>Loan</th>\n",
       "      <th>Contact</th>\n",
       "      <th>Day</th>\n",
       "      <th>Month</th>\n",
       "      <th>Duration</th>\n",
       "      <th>Campaign</th>\n",
       "      <th>Pdays</th>\n",
       "      <th>Previous</th>\n",
       "      <th>Poutcome</th>\n",
       "      <th>output</th>\n",
       "    </tr>\n",
       "  </thead>\n",
       "  <tbody>\n",
       "    <tr>\n",
       "      <th>0</th>\n",
       "      <td>TEST2</td>\n",
       "      <td>30</td>\n",
       "      <td>JobCat3</td>\n",
       "      <td>single</td>\n",
       "      <td>primary</td>\n",
       "      <td>no</td>\n",
       "      <td>23</td>\n",
       "      <td>yes</td>\n",
       "      <td>yes</td>\n",
       "      <td>unknown</td>\n",
       "      <td>5</td>\n",
       "      <td>may</td>\n",
       "      <td>0</td>\n",
       "      <td>1</td>\n",
       "      <td>-1</td>\n",
       "      <td>0</td>\n",
       "      <td>unknown</td>\n",
       "      <td>?</td>\n",
       "    </tr>\n",
       "    <tr>\n",
       "      <th>1</th>\n",
       "      <td>TEST3</td>\n",
       "      <td>53</td>\n",
       "      <td>JobCat9</td>\n",
       "      <td>married</td>\n",
       "      <td>secondary</td>\n",
       "      <td>no</td>\n",
       "      <td>-3</td>\n",
       "      <td>no</td>\n",
       "      <td>no</td>\n",
       "      <td>unknown</td>\n",
       "      <td>5</td>\n",
       "      <td>may</td>\n",
       "      <td>0</td>\n",
       "      <td>1</td>\n",
       "      <td>-1</td>\n",
       "      <td>0</td>\n",
       "      <td>unknown</td>\n",
       "      <td>?</td>\n",
       "    </tr>\n",
       "    <tr>\n",
       "      <th>2</th>\n",
       "      <td>TEST4</td>\n",
       "      <td>36</td>\n",
       "      <td>JobCat6</td>\n",
       "      <td>single</td>\n",
       "      <td>tertiary</td>\n",
       "      <td>no</td>\n",
       "      <td>424</td>\n",
       "      <td>yes</td>\n",
       "      <td>no</td>\n",
       "      <td>unknown</td>\n",
       "      <td>5</td>\n",
       "      <td>may</td>\n",
       "      <td>0</td>\n",
       "      <td>1</td>\n",
       "      <td>-1</td>\n",
       "      <td>0</td>\n",
       "      <td>unknown</td>\n",
       "      <td>?</td>\n",
       "    </tr>\n",
       "    <tr>\n",
       "      <th>3</th>\n",
       "      <td>TEST5</td>\n",
       "      <td>53</td>\n",
       "      <td>JobCat9</td>\n",
       "      <td>married</td>\n",
       "      <td>secondary</td>\n",
       "      <td>no</td>\n",
       "      <td>384</td>\n",
       "      <td>yes</td>\n",
       "      <td>no</td>\n",
       "      <td>unknown</td>\n",
       "      <td>5</td>\n",
       "      <td>may</td>\n",
       "      <td>0</td>\n",
       "      <td>1</td>\n",
       "      <td>-1</td>\n",
       "      <td>0</td>\n",
       "      <td>unknown</td>\n",
       "      <td>?</td>\n",
       "    </tr>\n",
       "    <tr>\n",
       "      <th>4</th>\n",
       "      <td>TEST6</td>\n",
       "      <td>28</td>\n",
       "      <td>JobCat9</td>\n",
       "      <td>married</td>\n",
       "      <td>secondary</td>\n",
       "      <td>no</td>\n",
       "      <td>152</td>\n",
       "      <td>yes</td>\n",
       "      <td>yes</td>\n",
       "      <td>unknown</td>\n",
       "      <td>5</td>\n",
       "      <td>may</td>\n",
       "      <td>0</td>\n",
       "      <td>2</td>\n",
       "      <td>-1</td>\n",
       "      <td>0</td>\n",
       "      <td>unknown</td>\n",
       "      <td>?</td>\n",
       "    </tr>\n",
       "  </tbody>\n",
       "</table>\n",
       "</div>"
      ],
      "text/plain": [
       "      ID  Age      Job MartialStatus  Education Default  Balance Housing Loan  \\\n",
       "0  TEST2   30  JobCat3        single    primary      no       23     yes  yes   \n",
       "1  TEST3   53  JobCat9       married  secondary      no       -3      no   no   \n",
       "2  TEST4   36  JobCat6        single   tertiary      no      424     yes   no   \n",
       "3  TEST5   53  JobCat9       married  secondary      no      384     yes   no   \n",
       "4  TEST6   28  JobCat9       married  secondary      no      152     yes  yes   \n",
       "\n",
       "   Contact  Day Month  Duration  Campaign  Pdays  Previous Poutcome output  \n",
       "0  unknown    5   may         0         1     -1         0  unknown      ?  \n",
       "1  unknown    5   may         0         1     -1         0  unknown      ?  \n",
       "2  unknown    5   may         0         1     -1         0  unknown      ?  \n",
       "3  unknown    5   may         0         1     -1         0  unknown      ?  \n",
       "4  unknown    5   may         0         2     -1         0  unknown      ?  "
      ]
     },
     "execution_count": 40,
     "metadata": {},
     "output_type": "execute_result"
    }
   ],
   "source": [
    "dataset.head()\n",
    "queries.head()"
   ]
  },
  {
   "cell_type": "code",
   "execution_count": 202,
   "id": "dfe0528e-db68-4c1b-b545-8c1e428a3266",
   "metadata": {},
   "outputs": [],
   "source": [
    "#Create contonuous features\n",
    "cont = dataset.filter(['Age','Balance','Day','Duration', 'Campaign','Previous','Pdays','output'])\n",
    "queries_cont = dataset.filter(['Age','Balance','Day','Duration', 'Campaign','Previous','Pdays'])"
   ]
  },
  {
   "cell_type": "code",
   "execution_count": 203,
   "id": "233a536a-7840-4070-9754-eed1ba0d2eb2",
   "metadata": {},
   "outputs": [],
   "source": [
    "#convert binary values to continuous values\n",
    "cont[\"Poutcome\"] = pd.factorize(dataset['Poutcome'])[0]\n",
    "cont[\"Housing\"] = pd.factorize(dataset['Housing'])[0]\n",
    "cont[\"Loan\"] = pd.factorize(dataset['Loan'])[0]\n",
    "queries_cont[\"Poutcome\"] = pd.factorize(dataset['Poutcome'])[0]\n",
    "queries_cont[\"Housing\"] = pd.factorize(dataset['Housing'])[0]\n",
    "queries_cont[\"Loan\"] = pd.factorize(dataset['Loan'])[0]"
   ]
  },
  {
   "cell_type": "code",
   "execution_count": 204,
   "id": "de63f4ef-11cc-41e5-9779-e1106f3091f0",
   "metadata": {},
   "outputs": [
    {
     "data": {
      "text/html": [
       "<div>\n",
       "<style scoped>\n",
       "    .dataframe tbody tr th:only-of-type {\n",
       "        vertical-align: middle;\n",
       "    }\n",
       "\n",
       "    .dataframe tbody tr th {\n",
       "        vertical-align: top;\n",
       "    }\n",
       "\n",
       "    .dataframe thead th {\n",
       "        text-align: right;\n",
       "    }\n",
       "</style>\n",
       "<table border=\"1\" class=\"dataframe\">\n",
       "  <thead>\n",
       "    <tr style=\"text-align: right;\">\n",
       "      <th></th>\n",
       "      <th>Age</th>\n",
       "      <th>Balance</th>\n",
       "      <th>Day</th>\n",
       "      <th>Duration</th>\n",
       "      <th>Campaign</th>\n",
       "      <th>Previous</th>\n",
       "      <th>Pdays</th>\n",
       "      <th>Poutcome</th>\n",
       "      <th>Housing</th>\n",
       "      <th>Loan</th>\n",
       "    </tr>\n",
       "  </thead>\n",
       "  <tbody>\n",
       "    <tr>\n",
       "      <th>0</th>\n",
       "      <td>31</td>\n",
       "      <td>2</td>\n",
       "      <td>5</td>\n",
       "      <td>0</td>\n",
       "      <td>1</td>\n",
       "      <td>0</td>\n",
       "      <td>-1</td>\n",
       "      <td>0</td>\n",
       "      <td>0</td>\n",
       "      <td>0</td>\n",
       "    </tr>\n",
       "    <tr>\n",
       "      <th>1</th>\n",
       "      <td>42</td>\n",
       "      <td>2</td>\n",
       "      <td>5</td>\n",
       "      <td>0</td>\n",
       "      <td>1</td>\n",
       "      <td>0</td>\n",
       "      <td>-1</td>\n",
       "      <td>0</td>\n",
       "      <td>0</td>\n",
       "      <td>1</td>\n",
       "    </tr>\n",
       "    <tr>\n",
       "      <th>2</th>\n",
       "      <td>58</td>\n",
       "      <td>121</td>\n",
       "      <td>5</td>\n",
       "      <td>0</td>\n",
       "      <td>1</td>\n",
       "      <td>0</td>\n",
       "      <td>-1</td>\n",
       "      <td>0</td>\n",
       "      <td>0</td>\n",
       "      <td>1</td>\n",
       "    </tr>\n",
       "    <tr>\n",
       "      <th>3</th>\n",
       "      <td>43</td>\n",
       "      <td>593</td>\n",
       "      <td>5</td>\n",
       "      <td>0</td>\n",
       "      <td>1</td>\n",
       "      <td>0</td>\n",
       "      <td>-1</td>\n",
       "      <td>0</td>\n",
       "      <td>0</td>\n",
       "      <td>1</td>\n",
       "    </tr>\n",
       "    <tr>\n",
       "      <th>4</th>\n",
       "      <td>57</td>\n",
       "      <td>162</td>\n",
       "      <td>5</td>\n",
       "      <td>0</td>\n",
       "      <td>1</td>\n",
       "      <td>0</td>\n",
       "      <td>-1</td>\n",
       "      <td>0</td>\n",
       "      <td>0</td>\n",
       "      <td>1</td>\n",
       "    </tr>\n",
       "    <tr>\n",
       "      <th>...</th>\n",
       "      <td>...</td>\n",
       "      <td>...</td>\n",
       "      <td>...</td>\n",
       "      <td>...</td>\n",
       "      <td>...</td>\n",
       "      <td>...</td>\n",
       "      <td>...</td>\n",
       "      <td>...</td>\n",
       "      <td>...</td>\n",
       "      <td>...</td>\n",
       "    </tr>\n",
       "    <tr>\n",
       "      <th>24312</th>\n",
       "      <td>36</td>\n",
       "      <td>557</td>\n",
       "      <td>16</td>\n",
       "      <td>0</td>\n",
       "      <td>4</td>\n",
       "      <td>0</td>\n",
       "      <td>-1</td>\n",
       "      <td>0</td>\n",
       "      <td>0</td>\n",
       "      <td>1</td>\n",
       "    </tr>\n",
       "    <tr>\n",
       "      <th>24313</th>\n",
       "      <td>53</td>\n",
       "      <td>583</td>\n",
       "      <td>17</td>\n",
       "      <td>0</td>\n",
       "      <td>1</td>\n",
       "      <td>4</td>\n",
       "      <td>184</td>\n",
       "      <td>3</td>\n",
       "      <td>1</td>\n",
       "      <td>1</td>\n",
       "    </tr>\n",
       "    <tr>\n",
       "      <th>24314</th>\n",
       "      <td>23</td>\n",
       "      <td>505</td>\n",
       "      <td>17</td>\n",
       "      <td>0</td>\n",
       "      <td>2</td>\n",
       "      <td>0</td>\n",
       "      <td>-1</td>\n",
       "      <td>0</td>\n",
       "      <td>1</td>\n",
       "      <td>0</td>\n",
       "    </tr>\n",
       "    <tr>\n",
       "      <th>24315</th>\n",
       "      <td>51</td>\n",
       "      <td>825</td>\n",
       "      <td>17</td>\n",
       "      <td>0</td>\n",
       "      <td>3</td>\n",
       "      <td>0</td>\n",
       "      <td>-1</td>\n",
       "      <td>0</td>\n",
       "      <td>1</td>\n",
       "      <td>1</td>\n",
       "    </tr>\n",
       "    <tr>\n",
       "      <th>24316</th>\n",
       "      <td>72</td>\n",
       "      <td>5715</td>\n",
       "      <td>17</td>\n",
       "      <td>0</td>\n",
       "      <td>5</td>\n",
       "      <td>3</td>\n",
       "      <td>184</td>\n",
       "      <td>3</td>\n",
       "      <td>1</td>\n",
       "      <td>1</td>\n",
       "    </tr>\n",
       "  </tbody>\n",
       "</table>\n",
       "<p>24317 rows × 10 columns</p>\n",
       "</div>"
      ],
      "text/plain": [
       "       Age  Balance  Day  Duration  Campaign  Previous  Pdays  Poutcome  \\\n",
       "0       31        2    5         0         1         0     -1         0   \n",
       "1       42        2    5         0         1         0     -1         0   \n",
       "2       58      121    5         0         1         0     -1         0   \n",
       "3       43      593    5         0         1         0     -1         0   \n",
       "4       57      162    5         0         1         0     -1         0   \n",
       "...    ...      ...  ...       ...       ...       ...    ...       ...   \n",
       "24312   36      557   16         0         4         0     -1         0   \n",
       "24313   53      583   17         0         1         4    184         3   \n",
       "24314   23      505   17         0         2         0     -1         0   \n",
       "24315   51      825   17         0         3         0     -1         0   \n",
       "24316   72     5715   17         0         5         3    184         3   \n",
       "\n",
       "       Housing  Loan  \n",
       "0            0     0  \n",
       "1            0     1  \n",
       "2            0     1  \n",
       "3            0     1  \n",
       "4            0     1  \n",
       "...        ...   ...  \n",
       "24312        0     1  \n",
       "24313        1     1  \n",
       "24314        1     0  \n",
       "24315        1     1  \n",
       "24316        1     1  \n",
       "\n",
       "[24317 rows x 10 columns]"
      ]
     },
     "execution_count": 204,
     "metadata": {},
     "output_type": "execute_result"
    }
   ],
   "source": [
    "queries_cont"
   ]
  },
  {
   "cell_type": "code",
   "execution_count": 520,
   "id": "2e8d707c-39ea-45bf-8048-92d10d159988",
   "metadata": {},
   "outputs": [],
   "source": [
    "#Convert output to a continuous feature\n",
    "Y = pd.factorize(cont['output'])[0]"
   ]
  },
  {
   "cell_type": "code",
   "execution_count": 521,
   "id": "60bdb86c-5506-45ed-90c3-eb4a23b9ed52",
   "metadata": {},
   "outputs": [],
   "source": [
    "#create X values from dataframes while dropping output for Y value\n",
    "X = cont.drop(['output'], axis=1)\n",
    "X2 = queries_cont.drop(['output'], axis=1)"
   ]
  },
  {
   "cell_type": "code",
   "execution_count": 522,
   "id": "6ca92c33-bfbd-40ff-a16f-7a62d27aeaa3",
   "metadata": {},
   "outputs": [
    {
     "data": {
      "text/plain": [
       "((24317,), (24317, 10))"
      ]
     },
     "execution_count": 522,
     "metadata": {},
     "output_type": "execute_result"
    }
   ],
   "source": [
    "#Shape of Dataframes\n",
    "Y.shape,X.shape"
   ]
  },
  {
   "cell_type": "code",
   "execution_count": 523,
   "id": "eaa96791-c4c4-46e8-8d8c-3ac6b0b146ff",
   "metadata": {},
   "outputs": [],
   "source": [
    "#Create training/testing set with an 80-20 split\n",
    "X_train, X_test, Y_train, Y_test = train_test_split(X, Y, test_size=0.2)"
   ]
  },
  {
   "cell_type": "code",
   "execution_count": 524,
   "id": "e804750c-e358-41d8-9a49-1696155864f9",
   "metadata": {},
   "outputs": [
    {
     "data": {
      "text/plain": [
       "((19453, 10), (19453,))"
      ]
     },
     "execution_count": 524,
     "metadata": {},
     "output_type": "execute_result"
    }
   ],
   "source": [
    "#Shape of training dataset\n",
    "X_train.shape, Y_train.shape"
   ]
  },
  {
   "cell_type": "code",
   "execution_count": 544,
   "id": "2ce5c1a1-51c9-4bf5-b927-3c2aa2eb5a3b",
   "metadata": {},
   "outputs": [
    {
     "data": {
      "text/plain": [
       "((4864, 10), (4864,))"
      ]
     },
     "execution_count": 544,
     "metadata": {},
     "output_type": "execute_result"
    }
   ],
   "source": [
    "#Shape of test. dataset\n",
    "X_test.shape, Y_test.shape"
   ]
  },
  {
   "cell_type": "code",
   "execution_count": 538,
   "id": "7c254871-1675-4226-be9c-b02c06dd2560",
   "metadata": {},
   "outputs": [],
   "source": [
    "#Create linear model using logistical Regression, 3000 iterations, classweight assigns negitive weight to wrongly predicted value\n",
    "model = linear_model.LogisticRegression(max_iter=3000, class_weight = 'balanced')"
   ]
  },
  {
   "cell_type": "code",
   "execution_count": 539,
   "id": "66d3324e-4ebb-4141-a1f7-53d44c1c9e03",
   "metadata": {},
   "outputs": [
    {
     "data": {
      "text/plain": [
       "LogisticRegression(class_weight='balanced', max_iter=3000)"
      ]
     },
     "execution_count": 539,
     "metadata": {},
     "output_type": "execute_result"
    }
   ],
   "source": [
    "#Fit or train our model with datasets\n",
    "model.fit(X_train, Y_train)"
   ]
  },
  {
   "cell_type": "code",
   "execution_count": 541,
   "id": "5c1115ff-46a4-4018-9bbe-74a919e0b602",
   "metadata": {},
   "outputs": [
    {
     "data": {
      "text/plain": [
       "array([0, 0, 1, ..., 0, 1, 0])"
      ]
     },
     "execution_count": 541,
     "metadata": {},
     "output_type": "execute_result"
    }
   ],
   "source": [
    "#Use model to make prediction\n",
    "Y_pred = model.predict(X_test)\n",
    "Y_pred"
   ]
  },
  {
   "cell_type": "code",
   "execution_count": 542,
   "id": "f4cac0e0-062b-4f6f-b9c5-afbd231597f5",
   "metadata": {},
   "outputs": [],
   "source": [
    "#np.round(Y_pred.transpose()).astype(int)"
   ]
  },
  {
   "cell_type": "code",
   "execution_count": 572,
   "id": "258297ed-7b86-46d3-ba03-17725457bbef",
   "metadata": {},
   "outputs": [],
   "source": [
    "#Create confusion matrix to examine output\n",
    "cnf_matrix = metrics.confusion_matrix(Y_test, Y_pred)"
   ]
  },
  {
   "cell_type": "code",
   "execution_count": 573,
   "id": "cd08f38b-3d75-40ae-8368-54737cf6d0eb",
   "metadata": {},
   "outputs": [
    {
     "name": "stdout",
     "output_type": "stream",
     "text": [
      "Accuracy: 0.6700246710526315\n",
      "Precision: 0.1961231470923603\n",
      "Recall: 0.6382189239332097\n"
     ]
    }
   ],
   "source": [
    "#statistics of output\n",
    "print(\"Accuracy:\",metrics.accuracy_score(Y_test, Y_pred))\n",
    "print(\"Precision:\",metrics.precision_score(Y_test, Y_pred))\n",
    "print(\"Recall:\",metrics.recall_score(Y_test, Y_pred))"
   ]
  },
  {
   "cell_type": "code",
   "execution_count": 564,
   "id": "2e7913b0-3ac1-477d-b748-916e04843d1b",
   "metadata": {},
   "outputs": [
    {
     "data": {
      "text/plain": [
       "array([0, 0, 0, ..., 1, 0, 1])"
      ]
     },
     "execution_count": 564,
     "metadata": {},
     "output_type": "execute_result"
    }
   ],
   "source": [
    "#Use the query set to get prediction using our model\n",
    "query_pred= model.predict(X2)\n",
    "query_pred"
   ]
  },
  {
   "cell_type": "code",
   "execution_count": 565,
   "id": "16e4b20d-d9fe-41aa-81fb-6c68746b848f",
   "metadata": {},
   "outputs": [],
   "source": [
    "#Create predictions dataframe\n",
    "prediction= pd.DataFrame(columns = ['ID','Result'])\n",
    "prediction.ID = queries.ID"
   ]
  },
  {
   "cell_type": "code",
   "execution_count": 566,
   "id": "f25aecc7-dad2-478c-b197-a3a7d38d4490",
   "metadata": {},
   "outputs": [
    {
     "data": {
      "text/html": [
       "<div>\n",
       "<style scoped>\n",
       "    .dataframe tbody tr th:only-of-type {\n",
       "        vertical-align: middle;\n",
       "    }\n",
       "\n",
       "    .dataframe tbody tr th {\n",
       "        vertical-align: top;\n",
       "    }\n",
       "\n",
       "    .dataframe thead th {\n",
       "        text-align: right;\n",
       "    }\n",
       "</style>\n",
       "<table border=\"1\" class=\"dataframe\">\n",
       "  <thead>\n",
       "    <tr style=\"text-align: right;\">\n",
       "      <th></th>\n",
       "      <th>ID</th>\n",
       "      <th>Result</th>\n",
       "    </tr>\n",
       "  </thead>\n",
       "  <tbody>\n",
       "    <tr>\n",
       "      <th>0</th>\n",
       "      <td>TEST2</td>\n",
       "      <td>0</td>\n",
       "    </tr>\n",
       "    <tr>\n",
       "      <th>1</th>\n",
       "      <td>TEST3</td>\n",
       "      <td>0</td>\n",
       "    </tr>\n",
       "    <tr>\n",
       "      <th>2</th>\n",
       "      <td>TEST4</td>\n",
       "      <td>0</td>\n",
       "    </tr>\n",
       "    <tr>\n",
       "      <th>3</th>\n",
       "      <td>TEST5</td>\n",
       "      <td>0</td>\n",
       "    </tr>\n",
       "    <tr>\n",
       "      <th>4</th>\n",
       "      <td>TEST6</td>\n",
       "      <td>0</td>\n",
       "    </tr>\n",
       "    <tr>\n",
       "      <th>...</th>\n",
       "      <td>...</td>\n",
       "      <td>...</td>\n",
       "    </tr>\n",
       "    <tr>\n",
       "      <th>2697</th>\n",
       "      <td>TEST2699</td>\n",
       "      <td>0</td>\n",
       "    </tr>\n",
       "    <tr>\n",
       "      <th>2698</th>\n",
       "      <td>TEST2700</td>\n",
       "      <td>0</td>\n",
       "    </tr>\n",
       "    <tr>\n",
       "      <th>2699</th>\n",
       "      <td>TEST2701</td>\n",
       "      <td>1</td>\n",
       "    </tr>\n",
       "    <tr>\n",
       "      <th>2700</th>\n",
       "      <td>TEST2702</td>\n",
       "      <td>0</td>\n",
       "    </tr>\n",
       "    <tr>\n",
       "      <th>2701</th>\n",
       "      <td>TEST2703</td>\n",
       "      <td>0</td>\n",
       "    </tr>\n",
       "  </tbody>\n",
       "</table>\n",
       "<p>2702 rows × 2 columns</p>\n",
       "</div>"
      ],
      "text/plain": [
       "            ID  Result\n",
       "0        TEST2       0\n",
       "1        TEST3       0\n",
       "2        TEST4       0\n",
       "3        TEST5       0\n",
       "4        TEST6       0\n",
       "...        ...     ...\n",
       "2697  TEST2699       0\n",
       "2698  TEST2700       0\n",
       "2699  TEST2701       1\n",
       "2700  TEST2702       0\n",
       "2701  TEST2703       0\n",
       "\n",
       "[2702 rows x 2 columns]"
      ]
     },
     "execution_count": 566,
     "metadata": {},
     "output_type": "execute_result"
    }
   ],
   "source": [
    "#Building dataframe with predictions\n",
    "prediction.Result = pd.Series(query_pred)\n",
    "prediction"
   ]
  },
  {
   "cell_type": "code",
   "execution_count": 567,
   "id": "99847e95-31b0-4fdc-bc38-e939efbe6150",
   "metadata": {},
   "outputs": [
    {
     "data": {
      "text/html": [
       "<div>\n",
       "<style scoped>\n",
       "    .dataframe tbody tr th:only-of-type {\n",
       "        vertical-align: middle;\n",
       "    }\n",
       "\n",
       "    .dataframe tbody tr th {\n",
       "        vertical-align: top;\n",
       "    }\n",
       "\n",
       "    .dataframe thead th {\n",
       "        text-align: right;\n",
       "    }\n",
       "</style>\n",
       "<table border=\"1\" class=\"dataframe\">\n",
       "  <thead>\n",
       "    <tr style=\"text-align: right;\">\n",
       "      <th></th>\n",
       "      <th>ID</th>\n",
       "      <th>Result</th>\n",
       "    </tr>\n",
       "  </thead>\n",
       "  <tbody>\n",
       "    <tr>\n",
       "      <th>0</th>\n",
       "      <td>TEST2</td>\n",
       "      <td>TypeA</td>\n",
       "    </tr>\n",
       "    <tr>\n",
       "      <th>1</th>\n",
       "      <td>TEST3</td>\n",
       "      <td>TypeA</td>\n",
       "    </tr>\n",
       "    <tr>\n",
       "      <th>2</th>\n",
       "      <td>TEST4</td>\n",
       "      <td>TypeA</td>\n",
       "    </tr>\n",
       "    <tr>\n",
       "      <th>3</th>\n",
       "      <td>TEST5</td>\n",
       "      <td>TypeA</td>\n",
       "    </tr>\n",
       "    <tr>\n",
       "      <th>4</th>\n",
       "      <td>TEST6</td>\n",
       "      <td>TypeA</td>\n",
       "    </tr>\n",
       "    <tr>\n",
       "      <th>...</th>\n",
       "      <td>...</td>\n",
       "      <td>...</td>\n",
       "    </tr>\n",
       "    <tr>\n",
       "      <th>2697</th>\n",
       "      <td>TEST2699</td>\n",
       "      <td>TypeA</td>\n",
       "    </tr>\n",
       "    <tr>\n",
       "      <th>2698</th>\n",
       "      <td>TEST2700</td>\n",
       "      <td>TypeA</td>\n",
       "    </tr>\n",
       "    <tr>\n",
       "      <th>2699</th>\n",
       "      <td>TEST2701</td>\n",
       "      <td>TypeB</td>\n",
       "    </tr>\n",
       "    <tr>\n",
       "      <th>2700</th>\n",
       "      <td>TEST2702</td>\n",
       "      <td>TypeA</td>\n",
       "    </tr>\n",
       "    <tr>\n",
       "      <th>2701</th>\n",
       "      <td>TEST2703</td>\n",
       "      <td>TypeA</td>\n",
       "    </tr>\n",
       "  </tbody>\n",
       "</table>\n",
       "<p>2702 rows × 2 columns</p>\n",
       "</div>"
      ],
      "text/plain": [
       "            ID Result\n",
       "0        TEST2  TypeA\n",
       "1        TEST3  TypeA\n",
       "2        TEST4  TypeA\n",
       "3        TEST5  TypeA\n",
       "4        TEST6  TypeA\n",
       "...        ...    ...\n",
       "2697  TEST2699  TypeA\n",
       "2698  TEST2700  TypeA\n",
       "2699  TEST2701  TypeB\n",
       "2700  TEST2702  TypeA\n",
       "2701  TEST2703  TypeA\n",
       "\n",
       "[2702 rows x 2 columns]"
      ]
     },
     "execution_count": 567,
     "metadata": {},
     "output_type": "execute_result"
    }
   ],
   "source": [
    "#replace 0,1 with typeA and TypeB in results column\n",
    "prediction['Result'] = prediction['Result'].replace([0,1],[\"TypeA\",\"TypeB\"])\n",
    "prediction"
   ]
  },
  {
   "cell_type": "code",
   "execution_count": 569,
   "id": "00df5da2-bb73-4f68-acc3-0556e10f09b3",
   "metadata": {},
   "outputs": [],
   "source": [
    "#Create predictions.csv file\n",
    "prediction.to_csv('queries.txt',index=False)"
   ]
  },
  {
   "cell_type": "code",
   "execution_count": null,
   "id": "24e1d5b9-1cc8-4442-b95c-7b67cd390842",
   "metadata": {},
   "outputs": [],
   "source": []
  }
 ],
 "metadata": {
  "kernelspec": {
   "display_name": "Python 3",
   "language": "python",
   "name": "python3"
  },
  "language_info": {
   "codemirror_mode": {
    "name": "ipython",
    "version": 3
   },
   "file_extension": ".py",
   "mimetype": "text/x-python",
   "name": "python",
   "nbconvert_exporter": "python",
   "pygments_lexer": "ipython3",
   "version": "3.8.8"
  }
 },
 "nbformat": 4,
 "nbformat_minor": 5
}
