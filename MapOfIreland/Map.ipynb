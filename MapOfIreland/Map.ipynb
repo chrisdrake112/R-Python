{
 "cells": [
  {
   "cell_type": "code",
   "execution_count": 15,
   "id": "3b450657-9cef-4724-af21-eda5062812c2",
   "metadata": {},
   "outputs": [
    {
     "name": "stdout",
     "output_type": "stream",
     "text": [
      "\n",
      "The downloaded binary packages are in\n",
      "\t/var/folders/v_/2l157r_x7ks6hpcp85trckyr0000gn/T//RtmpacNdQS/downloaded_packages\n",
      "\n",
      "The downloaded binary packages are in\n",
      "\t/var/folders/v_/2l157r_x7ks6hpcp85trckyr0000gn/T//RtmpacNdQS/downloaded_packages\n",
      "\n",
      "The downloaded binary packages are in\n",
      "\t/var/folders/v_/2l157r_x7ks6hpcp85trckyr0000gn/T//RtmpacNdQS/downloaded_packages\n",
      "\n",
      "The downloaded binary packages are in\n",
      "\t/var/folders/v_/2l157r_x7ks6hpcp85trckyr0000gn/T//RtmpacNdQS/downloaded_packages\n",
      "\n",
      "The downloaded binary packages are in\n",
      "\t/var/folders/v_/2l157r_x7ks6hpcp85trckyr0000gn/T//RtmpacNdQS/downloaded_packages\n",
      "\n",
      "The downloaded binary packages are in\n",
      "\t/var/folders/v_/2l157r_x7ks6hpcp85trckyr0000gn/T//RtmpacNdQS/downloaded_packages\n",
      "\n",
      "The downloaded binary packages are in\n",
      "\t/var/folders/v_/2l157r_x7ks6hpcp85trckyr0000gn/T//RtmpacNdQS/downloaded_packages\n",
      "\n",
      "The downloaded binary packages are in\n",
      "\t/var/folders/v_/2l157r_x7ks6hpcp85trckyr0000gn/T//RtmpacNdQS/downloaded_packages\n",
      "\n",
      "The downloaded binary packages are in\n",
      "\t/var/folders/v_/2l157r_x7ks6hpcp85trckyr0000gn/T//RtmpacNdQS/downloaded_packages\n",
      "\n",
      "The downloaded binary packages are in\n",
      "\t/var/folders/v_/2l157r_x7ks6hpcp85trckyr0000gn/T//RtmpacNdQS/downloaded_packages\n"
     ]
    }
   ],
   "source": [
    "install.packages(\"shiny\") \n",
    "install.packages(\"urltools\")\n",
    "install.packages(\"tmap\")\n",
    "install.packages(\"leaflet\")\n",
    "install.packages(\"leaflet.extras\")\n",
    "install.packages(\"rio\")\n",
    "install.packages(\"scales\")\n",
    "install.packages(\"htmlwidgets\")\n",
    "install.packages(\"sf\")\n",
    "install.packages(\"dplyr\")"
   ]
  },
  {
   "cell_type": "code",
   "execution_count": null,
   "id": "8a7c3fd1-ddfb-4867-87fd-99aea68cb07c",
   "metadata": {},
   "outputs": [],
   "source": [
    "library(raster)\n",
    "library(rgdal)\n",
    "library(ggplot2)\n",
    "library(broom)\n",
    "library(RColorBrewer)\n",
    "library(dplyr)\n",
    "library(ggsn)\n",
    "# set factors to false\n",
    "options(stringsAsFactors = FALSE)\n",
    "library(\"tmap\")\n",
    "library(\"scales\")\n",
    "library(\"leaflet\")\n",
    "library(\"sf\")\n",
    "library(\"leaflet.extras\")\n",
    "library(\"stringr\")"
   ]
  },
  {
   "cell_type": "code",
   "execution_count": null,
   "id": "28107b80-0beb-438a-8a3d-ce32e4568e3a",
   "metadata": {},
   "outputs": [],
   "source": [
    "nhdatafilecsv <- \"NHD2016.csv\"\n",
    "scdatafile <- \"SCGOP2016.csv\""
   ]
  },
  {
   "cell_type": "code",
   "execution_count": 5,
   "id": "11301203-47a0-40ae-b632-2a235023e8fd",
   "metadata": {},
   "outputs": [
    {
     "name": "stderr",
     "output_type": "stream",
     "text": [
      "Warning message in download.file(url, destfile, method, mode = \"wb\", ...):\n",
      "“downloaded length 67059712 != reported length 106726950”\n",
      "Warning message in download.file(url, destfile, method, mode = \"wb\", ...):\n",
      "“URL 'https://cran.r-project.org/bin/macosx/big-sur-arm64/contrib/4.1/sf_1.0-6.tgz': Timeout of 60 seconds was reached”\n"
     ]
    },
    {
     "name": "stdout",
     "output_type": "stream",
     "text": [
      "Error in download.file(url, destfile, method, mode = \"wb\", ...) : \n",
      "  download from 'https://cran.r-project.org/bin/macosx/big-sur-arm64/contrib/4.1/sf_1.0-6.tgz' failed\n"
     ]
    },
    {
     "name": "stderr",
     "output_type": "stream",
     "text": [
      "Warning message in download.packages(pkgs, destdir = tmpd, available = available, :\n",
      "“download of package ‘sf’ failed”\n"
     ]
    }
   ],
   "source": []
  },
  {
   "cell_type": "code",
   "execution_count": 18,
   "id": "4a17daf3-b58d-43a0-ae4b-3a019f254804",
   "metadata": {},
   "outputs": [
    {
     "name": "stderr",
     "output_type": "stream",
     "text": [
      "also installing the dependencies ‘RgoogleMaps’, ‘plyr’, ‘rjson’, ‘jpeg’, ‘bitops’, ‘maptools’, ‘ggmap’\n",
      "\n",
      "\n"
     ]
    },
    {
     "name": "stdout",
     "output_type": "stream",
     "text": [
      "\n",
      "The downloaded binary packages are in\n",
      "\t/var/folders/v_/2l157r_x7ks6hpcp85trckyr0000gn/T//RtmpacNdQS/downloaded_packages\n"
     ]
    }
   ],
   "source": [
    "install.packages(\"ggsn\")"
   ]
  },
  {
   "cell_type": "code",
   "execution_count": null,
   "id": "bef10b81-bfd0-4509-b73c-7fc2550da054",
   "metadata": {},
   "outputs": [],
   "source": []
  }
 ],
 "metadata": {
  "kernelspec": {
   "display_name": "R",
   "language": "R",
   "name": "ir"
  },
  "language_info": {
   "codemirror_mode": "r",
   "file_extension": ".r",
   "mimetype": "text/x-r-source",
   "name": "R",
   "pygments_lexer": "r",
   "version": "4.1.2"
  }
 },
 "nbformat": 4,
 "nbformat_minor": 5
}
