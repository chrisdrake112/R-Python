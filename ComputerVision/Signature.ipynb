{
 "cells": [
  {
   "cell_type": "code",
   "execution_count": 213,
   "id": "d998955c",
   "metadata": {},
   "outputs": [],
   "source": [
    "import cv2\n",
    "import numpy as np\n",
    "import matplotlib.pyplot as plt"
   ]
  },
  {
   "cell_type": "code",
   "execution_count": 214,
   "id": "240006dc",
   "metadata": {},
   "outputs": [],
   "source": [
    "#read in file\n",
    "img = cv2.imread(\"Boss.bmp\",0)\n",
    "original = img"
   ]
  },
  {
   "cell_type": "code",
   "execution_count": 215,
   "id": "a0d0ab59",
   "metadata": {},
   "outputs": [],
   "source": [
    "#create kernel using structuring element , to exact lines into binary matrix\n",
    "kernel = cv2.getStructuringElement(cv2.MORPH_RECT, (3,2))"
   ]
  },
  {
   "cell_type": "code",
   "execution_count": 217,
   "id": "62fdbd08",
   "metadata": {},
   "outputs": [],
   "source": [
    "#create adaptive threshold\n",
    "adThresh = cv2.adaptiveThreshold(img,255,cv2.ADAPTIVE_THRESH_GAUSSIAN_C,cv2.THRESH_BINARY,5,10)"
   ]
  },
  {
   "cell_type": "code",
   "execution_count": 218,
   "id": "7fdefb34",
   "metadata": {},
   "outputs": [],
   "source": [
    "#Create mask using morphology open algorithm \n",
    "mask3= cv2.morphologyEx(adThresh,cv2.MORPH_OPEN,kernel,iterations = 1)\n",
    "#Using erosian algorithm to increase size of lines for image\n",
    "erosion = cv2.erode(adThresh,kernel,iterations = 2)"
   ]
  },
  {
   "cell_type": "code",
   "execution_count": 219,
   "id": "2abe1679",
   "metadata": {},
   "outputs": [],
   "source": [
    "#Resizing and enhancing the image \n",
    "blur = cv2.bilateralFilter(erosion,9,75,75)\n",
    "resize_img = cv2.resize(blur,(1000,750))"
   ]
  },
  {
   "cell_type": "code",
   "execution_count": 220,
   "id": "6092c9fe",
   "metadata": {},
   "outputs": [],
   "source": [
    "#Print Images\n",
    "cv2.imshow(\"gray\",img)\n",
    "cv2.imshow(\"Thresh\",adThresh)\n",
    "cv2.imshow(\"erosion\",erosion)\n",
    "cv2.imshow(\"erosion\",resize_img)\n",
    "cv2.waitKey(0)\n",
    "cv2.destroyAllWindows()"
   ]
  },
  {
   "cell_type": "code",
   "execution_count": null,
   "id": "f7469fbd",
   "metadata": {},
   "outputs": [],
   "source": []
  }
 ],
 "metadata": {
  "kernelspec": {
   "display_name": "Python 3 (ipykernel)",
   "language": "python",
   "name": "python3"
  },
  "language_info": {
   "codemirror_mode": {
    "name": "ipython",
    "version": 3
   },
   "file_extension": ".py",
   "mimetype": "text/x-python",
   "name": "python",
   "nbconvert_exporter": "python",
   "pygments_lexer": "ipython3",
   "version": "3.9.1"
  }
 },
 "nbformat": 4,
 "nbformat_minor": 5
}
